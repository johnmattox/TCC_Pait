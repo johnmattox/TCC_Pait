{
 "cells": [
  {
   "cell_type": "markdown",
   "metadata": {},
   "source": [
    "### Imports"
   ]
  },
  {
   "cell_type": "code",
   "execution_count": 66,
   "metadata": {
    "collapsed": true
   },
   "outputs": [],
   "source": [
    "import random\n",
    "import os\n",
    "import re\n",
    "from PIL import Image\n",
    "from PIL import ImageDraw\n",
    "from PIL import ImageFont\n",
    "import matplotlib.pyplot as plt\n",
    "import numpy as np"
   ]
  },
  {
   "cell_type": "markdown",
   "metadata": {},
   "source": [
    "### Gera uma imagem em branco"
   ]
  },
  {
   "cell_type": "code",
   "execution_count": 10,
   "metadata": {},
   "outputs": [],
   "source": [
    "im = Image.new('RGB',(1100, 1500),'white')\n",
    "dsnh = ImageDraw.Draw(im)"
   ]
  },
  {
   "cell_type": "markdown",
   "metadata": {},
   "source": [
    "### Prepara listas de fontes e de palavras"
   ]
  },
  {
   "cell_type": "code",
   "execution_count": 81,
   "metadata": {},
   "outputs": [],
   "source": [
    "# Lista fontes do windows (alterar pasta se necessário):\n",
    "fontesPath = \"C:\\Windows\\Fonts\"\n",
    "todasFontes = os.listdir(fontesPath)\n",
    "# Filtra fontes 'interessantes':\n",
    "fontesInteressantes = ['arial','times','cambria','calibri', \\\n",
    "                       'book','cent','comic','consolas', \\\n",
    "                       'corbel','cour','fra','gara', \\\n",
    "                       'georgia','letter','sans','minion', \\\n",
    "                       'myriad','segoe','tahoma','verdana','adobe']\n",
    "fontes = []\n",
    "for f in todasFontes:\n",
    "    if any([s.lower() in f.lower() for s in fontesInteressantes]):\n",
    "        fontes.append(f)\n",
    "        \n",
    "# Gera lista de palavras a partir de um livro\n",
    "def limpa_string(s,l):\n",
    "    out = \"\"\n",
    "    for c in s:\n",
    "        if c not in l:\n",
    "            out += c\n",
    "    return out\n",
    "\n",
    "palavras = []\n",
    "caracteresIndesejados = '\"@#$%&*-_!/?\\|!:;)(1234567890.><][}{+=,'\n",
    "with open('jules_verne.txt','r') as f:\n",
    "    for line in f:\n",
    "        for word in line.split():\n",
    "            palavras.append(limpa_string(word,caracteresIndesejados))\n",
    "palavras = np.unique(palavras)"
   ]
  },
  {
   "cell_type": "markdown",
   "metadata": {},
   "source": [
    "### Insere lista de palavras aleatórias na imagem"
   ]
  },
  {
   "cell_type": "code",
   "execution_count": null,
   "metadata": {
    "collapsed": true
   },
   "outputs": [],
   "source": []
  }
 ],
 "metadata": {
  "kernelspec": {
   "display_name": "Python 3",
   "language": "python",
   "name": "python3"
  },
  "language_info": {
   "codemirror_mode": {
    "name": "ipython",
    "version": 3
   },
   "file_extension": ".py",
   "mimetype": "text/x-python",
   "name": "python",
   "nbconvert_exporter": "python",
   "pygments_lexer": "ipython3",
   "version": "3.6.3"
  }
 },
 "nbformat": 4,
 "nbformat_minor": 2
}
