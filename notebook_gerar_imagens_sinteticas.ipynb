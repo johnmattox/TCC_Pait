{
 "cells": [
  {
   "cell_type": "markdown",
   "metadata": {},
   "source": [
    "### Imports"
   ]
  },
  {
   "cell_type": "code",
   "execution_count": 1,
   "metadata": {
    "collapsed": true
   },
   "outputs": [],
   "source": [
    "import random\n",
    "import os\n",
    "import re\n",
    "from PIL import Image\n",
    "from PIL import ImageDraw\n",
    "from PIL import ImageFont\n",
    "import matplotlib.pyplot as plt\n",
    "import numpy as np"
   ]
  },
  {
   "cell_type": "markdown",
   "metadata": {},
   "source": [
    "### Prepara listas de fontes e de palavras"
   ]
  },
  {
   "cell_type": "code",
   "execution_count": 678,
   "metadata": {
    "collapsed": true
   },
   "outputs": [],
   "source": [
    "# Lista fontes do windows (alterar pasta se necessário):\n",
    "fontesPath = \"C:\\Windows\\Fonts\"\n",
    "todasFontes = os.listdir(fontesPath)\n",
    "# Filtra fontes 'interessantes':\n",
    "fontesInteressantes = ['arial','times','cambria', \\\n",
    "                       'book','cent','comic','consolas', \\\n",
    "                       'corbel','cour','fra','gara', \\\n",
    "                       'georgia','letter','sans','minion', \\\n",
    "                       'myriad','tahoma','verdana','adobe']\n",
    "fontes = []\n",
    "for f in todasFontes:\n",
    "    if any([s.lower() in f.lower() for s in fontesInteressantes]):\n",
    "        fontes.append(f)\n",
    "        \n",
    "# Gera lista de palavras a partir de um livro\n",
    "def limpa_string(s,l):\n",
    "    out = \"\"\n",
    "    for c in s:\n",
    "        if c not in l:\n",
    "            out += c\n",
    "    return out\n",
    "\n",
    "palavras = []\n",
    "caracteresIndesejados = '\"@#$%&*-_!/?\\|!:;)(1234567890.><][}{+=,'\n",
    "with open('jules_verne.txt','r') as f:\n",
    "    for line in f:\n",
    "        for word in line.split():\n",
    "            palavras.append(limpa_string(word,caracteresIndesejados))\n",
    "palavras = np.unique(palavras)"
   ]
  },
  {
   "cell_type": "markdown",
   "metadata": {},
   "source": [
    "### Gera uma imagem em branco"
   ]
  },
  {
   "cell_type": "code",
   "execution_count": 679,
   "metadata": {
    "collapsed": true
   },
   "outputs": [],
   "source": [
    "im = Image.new('RGB',(1100, 1500),'white')\n",
    "dsnh = ImageDraw.Draw(im)"
   ]
  },
  {
   "cell_type": "markdown",
   "metadata": {},
   "source": [
    "### Insere lista de palavras aleatórias na imagem"
   ]
  },
  {
   "cell_type": "code",
   "execution_count": 396,
   "metadata": {
    "collapsed": true
   },
   "outputs": [],
   "source": [
    "lins = 70 #número de linhas a gerar\n",
    "pals = 1 #número de palavras por linha\n",
    "numSize = 9 #número de caracteres no número a gerar\n",
    "whiteSpace = 8 #número de \"espaços\" entre palavra e número\n",
    "greyness = random.randint(0,80) #gera tons de cinza aleatórios (mais que 50!)\n",
    "fontSize = random.randint(12,24) #gera tamanho aleatório de fonte\n",
    "fontChoice = random.choice(fontes) #escolhe uma fonte aleatória"
   ]
  },
  {
   "cell_type": "code",
   "execution_count": null,
   "metadata": {},
   "outputs": [],
   "source": [
    "font = ImageFont.truetype(fontChoice, fontSize)\n",
    "colPalavras = []\n",
    "colNumeros = []\n",
    "for l in range(2*lins):\n",
    "    colPalavras.append(random.choice(palavras))\n",
    "    colNumeros.append(''.join([\"%s\" % random.randint(0, 9) for num in range(0, numSize)]))\n",
    "\n",
    "if im.size[0]-((max([len(x) for x in colPalavras])+1.5*whiteSpace+numSize)*fontSize*int(1.2)) < 0:\n",
    "    posX = 0\n",
    "else:\n",
    "    posX = random.randint(0,im.size[0]-((max([len(x) for x in colPalavras])+1.5*whiteSpace+numSize)*fontSize*int(1.2)))\n",
    "if im.size[1]-(lins)*fontSize < 0:\n",
    "    posY = 0\n",
    "else:\n",
    "    posY = random.randint(0,im.size[1]-(lins)*fontSize)\n",
    "\n",
    "for l in range(lins):\n",
    "    dsnh.text((posX,(posY+l*fontSize)),colPalavras[l],(greyness,greyness,greyness),font=font)\n",
    "    dsnh.text((posX+2*whiteSpace*fontSize,(posY+l*fontSize)),colPalavras[l+lins],(greyness,greyness,greyness),font=font)\n",
    "    dsnh.text(((posX+whiteSpace*fontSize),(posY+l*fontSize)),colNumeros[l],(greyness,greyness,greyness),font=font)\n",
    "    dsnh.text(((posX+3*whiteSpace*fontSize),(posY+l*fontSize)),colNumeros[l+lins],(greyness,greyness,greyness),font=font)\n",
    "\n",
    "im"
   ]
  },
  {
   "cell_type": "markdown",
   "metadata": {},
   "source": [
    "### Insere poluição na imagem"
   ]
  },
  {
   "cell_type": "code",
   "execution_count": 953,
   "metadata": {},
   "outputs": [],
   "source": [
    "# Efeito de rasgo na página:\n",
    "def rasgar(img,contraste):\n",
    "    imagem = img.copy()\n",
    "    lenRasgo = random.randint(100,imagem.size[0]//2)\n",
    "    xInit = random.randint(0,imagem.size[0]-lenRasgo)\n",
    "    yInit = random.randint(0,imagem.size[1])\n",
    "    pixels = imagem.load()\n",
    "    sinal=random.choice([-1,1])\n",
    "    inclinacao = random.uniform(0.2,0.8)\n",
    "    for p in range(xInit,xInit+lenRasgo):\n",
    "        y = yInit\n",
    "        tStrip = random.choice([0,1,2])   \n",
    "        if random.random() <= inclinacao:\n",
    "            y=y+sinal*tStrip\n",
    "        else:\n",
    "            y=y-sinal*tStrip\n",
    "        for i in range(0-(tStrip//2),3+(tStrip//2)):\n",
    "            greyness = random.randint(0,80)\n",
    "            if (y+i)<10:\n",
    "                y+=tStrip\n",
    "            elif (y+i)>(imagem.size[1]-10):\n",
    "                y-=tStrip\n",
    "            #print(\"x: %d | y: %d\"%(p,y+i))\n",
    "            pixels[p,y+i] = (contraste,contraste,contraste)\n",
    "        yInit = y\n",
    "    return imagem\n",
    "\n",
    "# Linhas horizontais aleatórias:\n",
    "def lin_vertical(img,contraste):\n",
    "    imagem = img.copy()\n",
    "    pixels = imagem.load()\n",
    "    numLins = random.randint(1,3)\n",
    "    sinal=random.choice([-1,1])\n",
    "    for l in range(numLins):\n",
    "        thickness = random.randint(1,3)\n",
    "        lengthLine = int(imagem.size[1]//random.uniform(1.1,1.6))\n",
    "        yIni = random.randint(0,int(imagem.size[1]//random.uniform(15,30)))\n",
    "        xPos = random.randint(20,int(imagem.size[0]-20))\n",
    "        for p in range(yIni,yIni+lengthLine):\n",
    "            if random.random() <= 0.005:\n",
    "                xPos += sinal\n",
    "            for l in range(0-(thickness//2),1+(thickness//2)):\n",
    "                pixels[xPos+l,p] = (contraste,contraste,contraste)\n",
    "    return imagem\n",
    "\n",
    "# Linhas verticais aleatórias:\n",
    "def lin_horizon(img,contraste):\n",
    "    imagem = img.copy()\n",
    "    pixels = imagem.load()\n",
    "    numLins = random.randint(2,6)\n",
    "    sinal=random.choice([-1,1])\n",
    "    for l in range(numLins):\n",
    "        thickness = random.randint(1,3)\n",
    "        lengthLine = int(imagem.size[0]//random.uniform(1.1,6))\n",
    "        xIni = random.randint(0,int(imagem.size[0]//random.uniform(2,30)))\n",
    "        yPos = random.randint(20,int(imagem.size[1]-20))\n",
    "        for p in range(yIni,yIni+lengthLine):\n",
    "            if random.random() <= 0.005:\n",
    "                yPos += sinal\n",
    "            for l in range(0-(thickness//2),1+(thickness//2)):\n",
    "                if p<0 or p>=imagem.size[0]-1:\n",
    "                    break\n",
    "                pixels[p,yPos+l] = (contraste,contraste,contraste)\n",
    "    return imagem\n",
    "\n",
    "# Pontilhados:\n",
    "def pontilhados(img,contraste):\n",
    "    imagem = img.copy()\n",
    "    dsnh = ImageDraw.Draw(imagem)\n",
    "    try:\n",
    "        fontSize = random.randint(12,24)\n",
    "        fontChoice = random.choice(fontes)\n",
    "        font = ImageFont.truetype(fontChoice, fontSize)\n",
    "    except:\n",
    "        fontSize = random.randint(12,24)\n",
    "        fontChoice = random.choice(fontes)\n",
    "        font = ImageFont.truetype(fontChoice, fontSize)\n",
    "    lins = random.randint(2,30)\n",
    "    for l in range(1,lins):\n",
    "        numPontos = random.randint(3,20)\n",
    "        posX = random.randint(0,int(imagem.size[0]-(numPontos+5)*fontSize))\n",
    "        dsnh.text((posX,random.randint(5,int(imagem.size[1]-15))),'.'*numPontos,(contraste,contraste,contraste),font=font)\n",
    "    return imagem\n",
    "\n",
    "# Sal e Pimenta\n",
    "def salt_and_pepper(img):\n",
    "    imagem = np.asarray(img)\n",
    "    imagem.setflags(write=1)\n",
    "    row,col,ch = imagem.shape\n",
    "    s_vs_p = 0.5\n",
    "    amount = 0.004\n",
    "    # Salt mode\n",
    "    num_salt = np.ceil(amount * imagem.size * s_vs_p)\n",
    "    coords = [np.random.randint(0, i - 1, int(num_salt))\n",
    "          for i in imagem.shape]\n",
    "    imagem[coords] = 1\n",
    "\n",
    "    # Pepper mode\n",
    "    num_pepper = np.ceil(amount* imagem.size * (1. - s_vs_p))\n",
    "    coords = [np.random.randint(0, i - 1, int(num_pepper))\n",
    "          for i in imagem.shape]\n",
    "    imagem[coords] = 0\n",
    "    return Image.fromarray(imagem[:,:,1],mode=\"L\")"
   ]
  },
  {
   "cell_type": "markdown",
   "metadata": {},
   "source": [
    "### Tornando produtivo:"
   ]
  },
  {
   "cell_type": "code",
   "execution_count": 853,
   "metadata": {
    "collapsed": true
   },
   "outputs": [],
   "source": [
    "def gera_imagem_limpa():\n",
    "    im = Image.new('RGB',(1100, 1500),'white')\n",
    "    dsnh = ImageDraw.Draw(im)\n",
    "    lins = 70 #número de linhas a gerar\n",
    "    pals = 1 #número de palavras por linha\n",
    "    numSize = 9 #número de caracteres no número a gerar\n",
    "    whiteSpace = 8 #número de \"espaços\" entre palavra e número\n",
    "    try:\n",
    "        fontSize = random.randint(12,24) #gera tamanho aleatório de fonte\n",
    "        fontChoice = random.choice(fontes) #escolhe uma fonte aleatória\n",
    "        font = ImageFont.truetype(fontChoice, fontSize)\n",
    "    except:\n",
    "        fontSize = random.randint(12,24) #gera tamanho aleatório de fonte\n",
    "        fontChoice = random.choice(fontes) #escolhe uma fonte aleatória\n",
    "        font = ImageFont.truetype(fontChoice, fontSize)\n",
    "    greyness = random.randint(0,80) #gera tons de cinza aleatórios (mais que 50!)\n",
    "    colPalavras = []\n",
    "    colNumeros = []\n",
    "    for l in range(2*lins):\n",
    "        colPalavras.append(random.choice(palavras))\n",
    "        colNumeros.append(''.join([\"%s\" % random.randint(0, 9) for num in range(0, numSize)]))\n",
    "\n",
    "    if im.size[0]-((max([len(x) for x in colPalavras])+1.5*whiteSpace+numSize)*fontSize*int(1.2)) < 0:\n",
    "        posX = 0\n",
    "    else:\n",
    "        posX = random.randint(0,im.size[0]-((max([len(x) for x in colPalavras])+1.5*whiteSpace+numSize)*fontSize*int(1.2)))\n",
    "    if im.size[1]-(lins)*fontSize < 0:\n",
    "        posY = 0\n",
    "    else:\n",
    "        posY = random.randint(0,im.size[1]-(lins)*fontSize)\n",
    "\n",
    "    for l in range(lins):\n",
    "        dsnh.text((posX,(posY+l*fontSize)),colPalavras[l],(greyness,greyness,greyness),font=font)\n",
    "        dsnh.text((posX+2*whiteSpace*fontSize,(posY+l*fontSize)),colPalavras[l+lins],(greyness,greyness,greyness),font=font)\n",
    "        dsnh.text(((posX+whiteSpace*fontSize),(posY+l*fontSize)),colNumeros[l],(greyness,greyness,greyness),font=font)\n",
    "        dsnh.text(((posX+3*whiteSpace*fontSize),(posY+l*fontSize)),colNumeros[l+lins],(greyness,greyness,greyness),font=font)\n",
    "    return im, greyness"
   ]
  },
  {
   "cell_type": "code",
   "execution_count": 969,
   "metadata": {
    "collapsed": true
   },
   "outputs": [],
   "source": [
    "def gera_limpa_e_poluida():\n",
    "    im,contr = gera_imagem_limpa()\n",
    "    limpa = im.copy()\n",
    "    suja = lin_horizon(im,contr)\n",
    "    if random.random()<=0.05:\n",
    "        suja = rasgar(suja,contr)\n",
    "    suja = lin_vertical(suja,contr)\n",
    "    suja = pontilhados(suja,contr)\n",
    "    suja = salt_and_pepper(suja)\n",
    "    \n",
    "    return limpa, suja"
   ]
  },
  {
   "cell_type": "code",
   "execution_count": 971,
   "metadata": {},
   "outputs": [
    {
     "name": "stdout",
     "output_type": "stream",
     "text": [
      "Imagem 30/30 gerada com sucesso!            "
     ]
    }
   ],
   "source": [
    "qtdArquivos = 30 #quantidade máxima de arquivos a serem gerados\n",
    "for i in range(qtdArquivos):\n",
    "    try:\n",
    "        limpa, suja = gera_limpa_e_poluida()\n",
    "        fileL = os.getcwd()+'\\\\imgs\\\\teste\\\\img_limpa_%05d.jpg'%i\n",
    "        fileS = os.getcwd()+'\\\\imgs\\\\teste\\\\img_suja_%05d.jpg'%i\n",
    "        if not os.path.exists(os.getcwd()+'\\\\imgs\\\\teste'):\n",
    "            print(\"Criando pasta imgs/teste\")\n",
    "            os.makedirs(os.getcwd()+'\\\\imgs\\\\teste')\n",
    "        limpa.save(fileL)\n",
    "        suja.save(fileS)\n",
    "        print('\\rImagem %d/%d gerada com sucesso!            '%(i+1,qtdArquivos),end='',flush=True)\n",
    "    except:\n",
    "        print('\\rerro encontrado, gerando nova imagem        ',end='',flush=True)\n",
    "        limpa, suja = gera_limpa_e_poluida()\n",
    "        fileL = os.getcwd()+'\\\\imgs\\\\teste\\\\img_limpa_%05d.jpg'%i\n",
    "        fileS = os.getcwd()+'\\\\imgs\\\\teste\\\\img_suja_%05d.jpg'%i\n",
    "        if not os.path.exists(os.getcwd()+'\\\\imgs\\\\teste'):\n",
    "            print(\"Criando pasta imgs/teste\")\n",
    "            os.makedirs(os.getcwd()+'\\\\imgs\\\\teste')\n",
    "        limpa.save(fileL)\n",
    "        suja.save(fileS)"
   ]
  }
 ],
 "metadata": {
  "kernelspec": {
   "display_name": "Python 3",
   "language": "python",
   "name": "python3"
  },
  "language_info": {
   "codemirror_mode": {
    "name": "ipython",
    "version": 3
   },
   "file_extension": ".py",
   "mimetype": "text/x-python",
   "name": "python",
   "nbconvert_exporter": "python",
   "pygments_lexer": "ipython3",
   "version": "3.6.3"
  }
 },
 "nbformat": 4,
 "nbformat_minor": 2
}
