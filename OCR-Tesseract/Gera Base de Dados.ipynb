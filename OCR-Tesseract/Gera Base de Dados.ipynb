{
 "cells": [
  {
   "cell_type": "markdown",
   "metadata": {},
   "source": [
    "Imports"
   ]
  },
  {
   "cell_type": "code",
   "execution_count": 2,
   "metadata": {},
   "outputs": [],
   "source": [
    "from PIL import Image\n",
    "import pytesseract\n",
    "import argparse\n",
    "import cv2\n",
    "import os\n",
    "import openpyxl"
   ]
  },
  {
   "cell_type": "markdown",
   "metadata": {},
   "source": [
    "Path Base: Diretório de onde estão as imagens"
   ]
  },
  {
   "cell_type": "code",
   "execution_count": 20,
   "metadata": {},
   "outputs": [],
   "source": [
    "Path_Base = \"C:\\\\Users\\\\tersa\\\\Documents\\\\Cesar\\\\Controle\\\\TCC\\\\Tesseract\\\\Especifica\\\\\""
   ]
  },
  {
   "cell_type": "markdown",
   "metadata": {},
   "source": [
    "Inicialização de Variáveis"
   ]
  },
  {
   "cell_type": "code",
   "execution_count": 4,
   "metadata": {},
   "outputs": [],
   "source": [
    "alpha = ['a','b','c','d','e','f','g','h','i','j','k','l','m','n','o','p','q','r','s','t','u','v','w','x','y','z','A','B','C','D','E','F','G','H','I','J','K','L','M','N','O','P','Q','R','S','T','U','V','W','X','Y','Z'];\n",
    "number = ['0','1','2','3','4','5','6','7','8','9','!']\n",
    "inicio = ['A','B','C','D','E','F','G','H','I','J','K','L','M','N','O','P','Q','R','S','T','U','V','W','X','Y','Z','','','',''];\n",
    "preprocess = \"thresh\"\n"
   ]
  },
  {
   "cell_type": "markdown",
   "metadata": {},
   "source": [
    "Geração da Base de Dados"
   ]
  },
  {
   "cell_type": "code",
   "execution_count": 21,
   "metadata": {},
   "outputs": [],
   "source": [
    "wb = openpyxl.load_workbook('C:\\\\Users\\\\tersa\\\\Documents\\\\Cesar\\\\Controle\\\\TCC\\\\Tesseract\\\\Base.xlsx')\n",
    "CIFRAS = wb['Palavras'];\n",
    "\n",
    "P_C = 0;\n",
    "linha = 2;\n",
    "cont = 0;\n",
    "SALVAR = []\n",
    "files = os.listdir(Path_Base)\n",
    "for name in files:\n",
    "    PAGINA = getPageText(Path_Base,name,preprocess);\n",
    "    for LINHA in PAGINA:\n",
    "        PALAVRAS = LINHA.split(' ');\n",
    "        indice = PAGINA.index(LINHA)\n",
    "        if(len(PALAVRAS)>3 and indice>=(len(PAGINA)-50)):\n",
    "            COPIA = PALAVRAS.copy();\n",
    "            PALAVRAS.sort(key = len, reverse = True);\n",
    "            if(PALAVRAS != None):\n",
    "                if(len(PALAVRAS[0])>=4): ##Linha não está vazia\n",
    "                    MAIORES = [PALAVRAS[0],PALAVRAS[1],PALAVRAS[2],PALAVRAS[3]];\n",
    "                    FLAG = ['P','P','P','P'];\n",
    "                    for WORD in MAIORES:\n",
    "                        for C in WORD:\n",
    "                            if(C in number):\n",
    "                                ind = MAIORES.index(WORD);\n",
    "                                FLAG[ind] = 'N';\n",
    "                    if(FLAG.count('P')>2):\n",
    "                        for WORD in MAIORES:\n",
    "                            if(WORD != ''):\n",
    "                                if((not((WORD[0] == inicio[P_C]) or (WORD[0] == inicio[P_C+1]))) and (FLAG[MAIORES.index(WORD)] == 'P')):\n",
    "                                    ind = MAIORES.index(WORD);\n",
    "                                    FLAG[ind] = 'N';\n",
    "                    WORDS = [];\n",
    "                    SALVAR.append(MAIORES);\n",
    "                    for WORD in MAIORES:\n",
    "                        ind = MAIORES.index(WORD);\n",
    "                        if(FLAG[ind] == 'P'):\n",
    "                            WORDS.append(WORD);\n",
    "                            if(len(inicio)==P_C+1):\n",
    "                                inicio.append(' ');\n",
    "                            if(WORD != ''):\n",
    "                                if(WORD[0] == inicio[P_C+1]):\n",
    "                                    P_C+=1;\n",
    "                    WORDS.sort();\n",
    "                    if(len(WORDS)>=2):\n",
    "                        if(COPIA.index(WORDS[0])<COPIA.index(WORDS[1])):\n",
    "                            CIFRAS.cell(row=linha,column=1).value = WORDS[0];\n",
    "                            CIFRAS.cell(row=linha+50,column=1).value = WORDS[1];\n",
    "                        else:\n",
    "                            CIFRAS.cell(row=linha,column=1).value = WORDS[1];\n",
    "                            CIFRAS.cell(row=linha+50,column=1).value = WORDS[0];\n",
    "                    linha+=1;\n",
    "        if((len(PALAVRAS)==3) and indice>=(len(PAGINA)-50)):\n",
    "            linha+=1\n",
    "    cont+=1;\n",
    "    linha = 2+(100*cont);     \n",
    "wb.save('C:\\\\Users\\\\tersa\\\\Documents\\\\Cesar\\\\Controle\\\\TCC\\\\Tesseract\\\\Base_M.xlsx')"
   ]
  },
  {
   "cell_type": "markdown",
   "metadata": {},
   "source": [
    "Definição de Funções - Rodar antes de gerar a base de dados"
   ]
  },
  {
   "cell_type": "code",
   "execution_count": 5,
   "metadata": {},
   "outputs": [],
   "source": [
    "def getPageText(path,name,preprocess):\n",
    "    image = cv2.imread(path+name)\n",
    "    gray = cv2.cvtColor(image, cv2.COLOR_BGR2GRAY)\n",
    " \n",
    "    if preprocess == \"thresh\":\n",
    "        gray = cv2.threshold(gray, 0, 255, cv2.THRESH_BINARY | cv2.THRESH_OTSU)[1]\n",
    " \n",
    "    elif preprocess == \"blur\":\n",
    "        gray = cv2.medianBlur(gray, 3)\n",
    "\n",
    "    filename = \"auxiliar.png\".format(os.getpid())\n",
    "    cv2.imwrite(filename, gray)\n",
    "\n",
    "    auxiliar_text = pytesseract.image_to_string(Image.open(filename),lang='eng', config='--psm 6')\n",
    "    os.remove(filename)\n",
    "    \n",
    "    text = auxiliar_text.replace('.','').split('\\n');\n",
    "    \n",
    "    return text"
   ]
  },
  {
   "cell_type": "code",
   "execution_count": 14,
   "metadata": {},
   "outputs": [
    {
     "data": {
      "text/plain": [
       "['Bedlamite', '02142', 'O2192', '']"
      ]
     },
     "execution_count": 14,
     "metadata": {},
     "output_type": "execute_result"
    }
   ],
   "source": [
    "SALVAR[len(SALVAR)-1]"
   ]
  },
  {
   "cell_type": "code",
   "execution_count": 10,
   "metadata": {},
   "outputs": [
    {
     "data": {
      "text/plain": [
       "['~¢ *',\n",
       " '',\n",
       " '21 BAN (a1) BAS',\n",
       " 'Bandbor o20ar = Bargain 2051',\n",
       " 'Banded 92002 Baryained 92052',\n",
       " 'Bandit 02003 Barge  02083 {',\n",
       " 'Banditti o2004 Larger 02054',\n",
       " 'Bandrol  02005 = Bark  0205, 5',\n",
       " 'Bandy - 02006 Darker a 0285',\n",
       " 'Bane 02007 Barking 02057',\n",
       " 'Banefu]  02008 parley 02058',\n",
       " 'Ban o2 arm - 020!',\n",
       " 'Banch ozore Barmaid ons',\n",
       " 'Banished ezorr = Barn  02065',\n",
       " 'Banisher e202 Barnacle 02062',\n",
       " 'Banishment 02013 Barometer 02063 !',\n",
       " 'Bank e2zo1g = Baron 02064',\n",
       " 'Bankable o2015 ~—Jiaronage 0206:',\n",
       " 'Banker 02016 = Baroness “ axes',\n",
       " 'Banking o2017— Baronet 02067',\n",
       " 'Bankrupt o20r8 = Baronetage 02068',\n",
       " 'Bankruptcy 02019 ~— Baronetcy ony',\n",
       " 'Bannec 92020 Baronial 02070',\n",
       " 'Banneret 02021 = Barony 02071',\n",
       " 'Banns 92022 = Barouche 02072',\n",
       " 'Banquet 02023 Barrack 92073,',\n",
       " 'Bantam 02024 0 Barzatry 02074',\n",
       " 'Banter 92025 Darrel 92075',\n",
       " 'Banterer 02026 Barren 02071',\n",
       " 'Bantling 92027 Basrenness 0207',\n",
       " 'Banyan 02028 Barricade oars',\n",
       " 'aptismn 02029) Barrier',\n",
       " 'Baptist ozoj0 = Barrister onobe',\n",
       " 'Bapzistery 02031 = Barrow 02081',\n",
       " 'Baptize 2032 - Barter 02082',\n",
       " 'Baptized 02033 + Bartered 02083',\n",
       " 'Bar 02034 = Barytone 02084',\n",
       " 'Barb 02035 Basalt 0208,',\n",
       " 'Barbacan 0203 Basinet ozs',\n",
       " 'Barbarian 02037 Base \" 02087',\n",
       " 'Barbaric 02038 Based 92088',\n",
       " 'Batbarism 02039 = Basely 2089',\n",
       " 'Baybarity oz0g0~—- Basement 07090',\n",
       " 'Barbarous 02041 = Baseness  ©2091',\n",
       " 'Barbed  o20g2 Bashaw » 02092',\n",
       " 'Barber 02043 = Bashful - 02093',\n",
       " 'Bard 02044 ~— Basilisk 02094',\n",
       " 'fare 9204 Basin + OZ',\n",
       " 'Barebone ozo Basined “ coop :',\n",
       " 'Bared 9304) is wes ;',\n",
       " 'Barefaced oangs Bask of Sage |',\n",
       " 'Barely 20490 Basket - 2099 |',\n",
       " 'Bareness o205a— Bass 02100']"
      ]
     },
     "execution_count": 10,
     "metadata": {},
     "output_type": "execute_result"
    }
   ],
   "source": [
    "PAGINA"
   ]
  },
  {
   "cell_type": "code",
   "execution_count": 17,
   "metadata": {},
   "outputs": [
    {
     "data": {
      "text/plain": [
       "False"
      ]
     },
     "execution_count": 17,
     "metadata": {},
     "output_type": "execute_result"
    }
   ],
   "source": [
    "WORD = ''\n",
    "WORD == None"
   ]
  },
  {
   "cell_type": "code",
   "execution_count": null,
   "metadata": {},
   "outputs": [],
   "source": []
  }
 ],
 "metadata": {
  "kernelspec": {
   "display_name": "Python 3",
   "language": "python",
   "name": "python3"
  },
  "language_info": {
   "codemirror_mode": {
    "name": "ipython",
    "version": 3
   },
   "file_extension": ".py",
   "mimetype": "text/x-python",
   "name": "python",
   "nbconvert_exporter": "python",
   "pygments_lexer": "ipython3",
   "version": "3.7.0"
  }
 },
 "nbformat": 4,
 "nbformat_minor": 2
}
