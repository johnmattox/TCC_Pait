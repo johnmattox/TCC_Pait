{
 "cells": [
  {
   "cell_type": "markdown",
   "metadata": {},
   "source": [
    "Imports"
   ]
  },
  {
   "cell_type": "code",
   "execution_count": 1,
   "metadata": {},
   "outputs": [],
   "source": [
    "import os\n",
    "import openpyxl"
   ]
  },
  {
   "cell_type": "markdown",
   "metadata": {},
   "source": [
    "Nome dos Arquivos e PATH"
   ]
  },
  {
   "cell_type": "code",
   "execution_count": 45,
   "metadata": {},
   "outputs": [],
   "source": [
    "Path_Base = \"C:\\\\Users\\\\tersa\\\\Documents\\\\Cesar\\\\Controle\\\\TCC\\\\Tesseract\\\\Resultados\\\\\"\n",
    "Base_Dados = \"Base_Especifica.xlsx\"\n",
    "Mensagens = \"Mensagens.xlsx\""
   ]
  },
  {
   "cell_type": "markdown",
   "metadata": {},
   "source": [
    "Carrega a Base de Dados"
   ]
  },
  {
   "cell_type": "code",
   "execution_count": 46,
   "metadata": {},
   "outputs": [],
   "source": [
    "WB_DADOS = openpyxl.load_workbook(Path_Base+Base_Dados)\n",
    "DADOS = WB_DADOS['Palavras'];\n",
    "\n",
    "PALAVRAS = [];\n",
    "NUMEROS = [];\n",
    "\n",
    "for i in range(2,DADOS.max_row+1):\n",
    "    PALAVRAS.append(DADOS.cell(row=i,column=1).value);\n",
    "    NUMEROS.append(DADOS.cell(row=i,column=2).value);\n",
    "    \n",
    "WB_DADOS.save('C:\\\\Users\\\\tersa\\\\Documents\\\\Cesar\\\\Controle\\\\TCC\\\\Tesseract\\\\Base_Genérica_Alterada.xlsx')"
   ]
  },
  {
   "cell_type": "code",
   "execution_count": 47,
   "metadata": {},
   "outputs": [],
   "source": [
    "WB_MENSAGENS = openpyxl.load_workbook(Path_Base+Mensagens)\n",
    "CIFRAS = WB_MENSAGENS['Cifradas']\n",
    "TRADUCAO = WB_MENSAGENS['Traduzidas']\n",
    "SALVAR = []\n",
    "for i in range(2,11):\n",
    "    CIFRADAS = [];\n",
    "    coluna = 3;\n",
    "    while(CIFRAS.cell(row=i,column=coluna).value != '-' and CIFRAS.cell(row=i,column=coluna).value != None):\n",
    "        CIFRADAS.append(CIFRAS.cell(row=i,column=coluna).value);\n",
    "        coluna+=1;\n",
    "    AUX = CIFRAS.cell(row=i,column=2).value;\n",
    "    ACOES = AUX.replace(' ','').split(';')\n",
    "    if('FourFigures' in ACOES):\n",
    "        N_CIFRADAS = getCipher(CIFRADAS, PALAVRAS, NUMEROS, 1);\n",
    "        for ACT in ACOES:\n",
    "            if(ACT == '-CTE'):\n",
    "                N_CIFRADAS = CTE(N_CIFRADAS, PALAVRAS, NUMEROS, 1, -5555);\n",
    "            if(ACT == '+CTE'):\n",
    "                N_CIFRADAS = CTE(N_CIFRADAS, PALAVRAS, NUMEROS, 1, 5555);\n",
    "            if(ACT == 'Rotatethethreelast'):\n",
    "                N_CIFRADAS = ROTATE(N_CIFRADAS, PALAVRAS, NUMEROS, 1, 3);\n",
    "            if(ACT == '-n'):\n",
    "                N_CIFRADAS = subN(N_CIFRADAS, PALAVRAS, NUMEROS, 1);\n",
    "            if(ACT == 'FourFigures'):\n",
    "                N_CIFRADAS = REORDER(N_CIFRADAS, PALAVRAS, NUMEROS, 1, 5);\n",
    "    else:\n",
    "        N_CIFRADAS = getCipher(CIFRADAS, PALAVRAS, NUMEROS, 0);\n",
    "        for ACT in ACOES:\n",
    "            if(ACT == '-CTE'):\n",
    "                N_CIFRADAS = CTE(N_CIFRADAS, PALAVRAS, NUMEROS, 0, -5555);\n",
    "            if(ACT == '+CTE'):\n",
    "                N_CIFRADAS = CTE(N_CIFRADAS, PALAVRAS, NUMEROS, 0, 5555);\n",
    "            if(ACT == 'Rotatethethreelast'):\n",
    "                N_CIFRADAS = ROTATE(N_CIFRADAS, PALAVRAS, NUMEROS, 0, 3);\n",
    "    SALVAR.append(N_CIFRADAS.copy());\n",
    "    TRADUZIDO = getWords(N_CIFRADAS, PALAVRAS, NUMEROS);\n",
    "    coluna = 2;\n",
    "    for word in TRADUZIDO:\n",
    "        TRADUCAO.cell(row=i,column=coluna).value = word;\n",
    "        coluna+=1;\n",
    "        \n",
    "WB_MENSAGENS.save('C:\\\\Users\\\\tersa\\\\Documents\\\\Cesar\\\\Controle\\\\TCC\\\\Tesseract\\\\Resultados\\\\Mensagens_Base_Específica.xlsx')\n"
   ]
  },
  {
   "cell_type": "markdown",
   "metadata": {},
   "source": [
    "Transforma um vetor de palavras em cifras"
   ]
  },
  {
   "cell_type": "code",
   "execution_count": 36,
   "metadata": {},
   "outputs": [],
   "source": [
    "def getCipher(CIFRADAS, PALAVRAS, NUMEROS, FOUR_FLAG):\n",
    "    N_CIFRADAS = [];\n",
    "    for word in CIFRADAS:\n",
    "        cifra = NUMEROS[PALAVRAS.index(word)];\n",
    "        if(FOUR_FLAG):\n",
    "            if(cifra[0] == '0'):\n",
    "                N_CIFRADAS.append(int(cifra[1:5]))\n",
    "            else:\n",
    "                N_CIFRADAS.append(int(cifra[0:4]))\n",
    "        else:\n",
    "            N_CIFRADAS.append(int(cifra));\n",
    "    return N_CIFRADAS"
   ]
  },
  {
   "cell_type": "markdown",
   "metadata": {},
   "source": [
    "Transforma um vetor de cifras em palavras\n"
   ]
  },
  {
   "cell_type": "code",
   "execution_count": 37,
   "metadata": {},
   "outputs": [],
   "source": [
    "def getWords(N_CIFRADAS, PALAVRAS, NUMEROS):\n",
    "    CIFRADAS = [];\n",
    "    for cifra in N_CIFRADAS:\n",
    "        if(COMPLETE_CIPHER(cifra,5) == '00000'):\n",
    "            CIFRADAS.append('-')\n",
    "        else:\n",
    "            word = PALAVRAS[NUMEROS.index(COMPLETE_CIPHER(cifra,5))];\n",
    "            CIFRADAS.append(word);\n",
    "    return CIFRADAS"
   ]
  },
  {
   "cell_type": "markdown",
   "metadata": {},
   "source": [
    "Soma ou Subtrai Constantes das Cifras"
   ]
  },
  {
   "cell_type": "code",
   "execution_count": 38,
   "metadata": {},
   "outputs": [],
   "source": [
    "def CTE(N_CIFRADAS, PALAVRAS, NUMEROS, FOUR_FLAG, CTE):\n",
    "    for cifra in N_CIFRADAS:\n",
    "        AUX = cifra + CTE;\n",
    "        if(AUX > 25000):\n",
    "            AUX = AUX - 25000;\n",
    "        if(AUX < 1):\n",
    "            AUX = AUX + 25000;\n",
    "        N_CIFRADAS[N_CIFRADAS.index(cifra)] = AUX;\n",
    "    return N_CIFRADAS"
   ]
  },
  {
   "cell_type": "markdown",
   "metadata": {},
   "source": [
    "Rotaciona os últimos N_C caracteres das Cifras"
   ]
  },
  {
   "cell_type": "code",
   "execution_count": 39,
   "metadata": {},
   "outputs": [],
   "source": [
    "def ROTATE(N_CIFRADAS, PALAVRAS, NUMEROS, FOUR_FLAG, N_C):\n",
    "    for n_cifra in N_CIFRADAS:\n",
    "        cifra = COMPLETE_CIPHER(n_cifra,5);\n",
    "        AUX = '';\n",
    "        for c in range(0,len(cifra)):\n",
    "            if(c==len(cifra)-N_C):\n",
    "                AUX = AUX + cifra[len(cifra)-1];\n",
    "            elif(c>len(cifra)-N_C):\n",
    "                AUX = AUX + cifra[c-1];\n",
    "            else:\n",
    "                AUX = AUX + cifra[c];\n",
    "        N_CIFRADAS[N_CIFRADAS.index(n_cifra)] = int(AUX);\n",
    "    return N_CIFRADAS"
   ]
  },
  {
   "cell_type": "markdown",
   "metadata": {},
   "source": [
    "Retira -n de cada cifra"
   ]
  },
  {
   "cell_type": "code",
   "execution_count": 40,
   "metadata": {},
   "outputs": [],
   "source": [
    "def subN(N_CIFRADAS, PALAVRAS, NUMEROS, FOUR_FLAG):\n",
    "    Qtd = 1;\n",
    "    for cifra in N_CIFRADAS:\n",
    "        AUX = cifra - Qtd;\n",
    "        if(AUX > 25000):\n",
    "            AUX = AUX - 25000;\n",
    "        if(AUX < 1):\n",
    "            AUX = AUX + 25000;\n",
    "        N_CIFRADAS[N_CIFRADAS.index(cifra)] = AUX;\n",
    "        Qtd+=1;\n",
    "    return N_CIFRADAS"
   ]
  },
  {
   "cell_type": "markdown",
   "metadata": {},
   "source": [
    "Reordena para cifras de N_N números"
   ]
  },
  {
   "cell_type": "code",
   "execution_count": 41,
   "metadata": {},
   "outputs": [],
   "source": [
    "def REORDER(N_CIFRADAS, PALAVRAS, NUMEROS, FOUR_FLAG, N_N):\n",
    "    CIFRA = ''\n",
    "    for n_cifra in N_CIFRADAS:\n",
    "        cifra = str(n_cifra);\n",
    "        CIFRA = CIFRA + cifra;\n",
    "    Qtd = len(CIFRA)//N_N;\n",
    "    R_N_CIFRADAS = [];\n",
    "    for i in range(0,Qtd):\n",
    "        R_N_CIFRADAS.append(int(CIFRA[i*N_N:(i+1)*N_N]));\n",
    "    return R_N_CIFRADAS"
   ]
  },
  {
   "cell_type": "markdown",
   "metadata": {},
   "source": [
    "Retorna a Cifra Completa de um Número"
   ]
  },
  {
   "cell_type": "code",
   "execution_count": 42,
   "metadata": {},
   "outputs": [],
   "source": [
    "def COMPLETE_CIPHER(CIFRA,N):\n",
    "    N_CIFRA = str(CIFRA)\n",
    "    if(len(N_CIFRA)<5):\n",
    "        zeros = N-len(N_CIFRA)\n",
    "        for i in range(0,zeros):\n",
    "            N_CIFRA = '0' + N_CIFRA;\n",
    "    return N_CIFRA"
   ]
  },
  {
   "cell_type": "code",
   "execution_count": 2,
   "metadata": {},
   "outputs": [],
   "source": [
    "WB = openpyxl.load_workbook('C:\\\\Users\\\\tersa\\\\Documents\\\\Cesar\\\\Controle\\\\TCC\\\\Tesseract\\\\Resultados\\\\Bases.xlsx')\n",
    "ST_WB = WB['SemTratamento'];\n",
    "G_WB = WB['Genérica'];\n",
    "E_WB = WB['Específica'];\n",
    "B_WB = WB['Base'];\n",
    "\n",
    "ST = []\n",
    "ST.append([]);\n",
    "ST.append([]);\n",
    "for i in range(2,ST_WB.max_row+1):\n",
    "    ST[0].append(str(ST_WB.cell(row=i,column=1).value));\n",
    "    ST[1].append(str(ST_WB.cell(row=i,column=2).value));\n",
    "\n",
    "G = []\n",
    "G.append([]);\n",
    "G.append([]);\n",
    "for i in range(2,G_WB.max_row+1):\n",
    "    G[0].append(str(G_WB.cell(row=i,column=1).value));\n",
    "    G[1].append(str(G_WB.cell(row=i,column=2).value));\n",
    "    \n",
    "E = []\n",
    "E.append([]);\n",
    "E.append([]);\n",
    "for i in range(2,E_WB.max_row+1):\n",
    "    E[0].append(str(E_WB.cell(row=i,column=1).value));\n",
    "    E[1].append(str(E_WB.cell(row=i,column=2).value));\n",
    "    \n",
    "B = []\n",
    "for i in range(2,B_WB.max_row+1):\n",
    "    B.append(str(B_WB.cell(row=i,column=1).value));\n"
   ]
  },
  {
   "cell_type": "code",
   "execution_count": 14,
   "metadata": {},
   "outputs": [],
   "source": [
    "DIC_ST = 0;\n",
    "NUM_STG = 0;\n",
    "NUM_STE = 0;\n",
    "for i in range(0,len(ST)):\n",
    "    if(ST[0][i] in B):\n",
    "        DIC_ST+=1;\n",
    "    if(ST[0][i] == '' or ST[0][i] == None):\n",
    "        i_G = G[1].index(ST[1][i]);\n",
    "        i_E = E[1].index(ST[1][i]);\n",
    "        if(G[0][i_G] == '' or G[0][i_G] == None):\n",
    "            NUM_STG+=1;\n",
    "        if(E[0][i_E] == '' or E[0][i_E] == None):\n",
    "            NUM_STE+=1;\n"
   ]
  },
  {
   "cell_type": "code",
   "execution_count": 15,
   "metadata": {},
   "outputs": [],
   "source": [
    "DIC_G = 0;\n",
    "NUM_GST = 0;\n",
    "NUM_GE = 0;\n",
    "for i in range(0,len(G)):\n",
    "    if(G[0][i] in B):\n",
    "        DIC_G+=1;\n",
    "    if(G[0][i] == '' or G[0][i] == None):\n",
    "        i_ST = ST[1].index(G[1][i]);\n",
    "        i_E = E[1].index(G[1][i]);\n",
    "        if(ST[0][i_ST] == '' or ST[0][i_ST] == None):\n",
    "            NUM_GST+=1;\n",
    "        if(E[0][i_E] == '' or E[0][i_E] == None):\n",
    "            NUM_GE+=1;"
   ]
  },
  {
   "cell_type": "code",
   "execution_count": 16,
   "metadata": {},
   "outputs": [],
   "source": [
    "DIC_E = 0;\n",
    "NUM_EST = 0;\n",
    "NUM_EG = 0;\n",
    "for i in range(0,len(E)):\n",
    "    if(E[0][i] in B):\n",
    "        DIC_E+=1;\n",
    "    if(E[0][i] == '' or E[0][i] == None):\n",
    "        i_ST = ST[1].index(E[1][i]);\n",
    "        i_G = G[1].index(E[1][i]);\n",
    "        if(ST[0][i_ST] == '' or ST[0][i_ST] == None):\n",
    "            NUM_EST+=1;\n",
    "        if(G[0][i_G] == '' or G[0][i_G] == None):\n",
    "            NUM_EG+=1;"
   ]
  },
  {
   "cell_type": "code",
   "execution_count": 19,
   "metadata": {},
   "outputs": [
    {
     "data": {
      "text/plain": [
       "2"
      ]
     },
     "execution_count": 19,
     "metadata": {},
     "output_type": "execute_result"
    }
   ],
   "source": [
    "DIC_G"
   ]
  },
  {
   "cell_type": "code",
   "execution_count": null,
   "metadata": {},
   "outputs": [],
   "source": []
  }
 ],
 "metadata": {
  "kernelspec": {
   "display_name": "Python 3",
   "language": "python",
   "name": "python3"
  },
  "language_info": {
   "codemirror_mode": {
    "name": "ipython",
    "version": 3
   },
   "file_extension": ".py",
   "mimetype": "text/x-python",
   "name": "python",
   "nbconvert_exporter": "python",
   "pygments_lexer": "ipython3",
   "version": "3.7.0"
  }
 },
 "nbformat": 4,
 "nbformat_minor": 2
}
